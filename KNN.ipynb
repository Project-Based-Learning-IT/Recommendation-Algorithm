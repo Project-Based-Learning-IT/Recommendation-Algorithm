{
 "cells": [
  {
   "cell_type": "code",
   "execution_count": 1,
   "metadata": {},
   "outputs": [],
   "source": [
    "import pandas as pd\n",
    "import numpy as np\n",
    "from scipy.sparse import csr_matrix\n",
    "from sklearn.neighbors import NearestNeighbors\n",
    "import joblib"
   ]
  },
  {
   "cell_type": "code",
   "execution_count": 3,
   "metadata": {},
   "outputs": [
    {
     "data": {
      "text/html": [
       "<div>\n",
       "<style scoped>\n",
       "    .dataframe tbody tr th:only-of-type {\n",
       "        vertical-align: middle;\n",
       "    }\n",
       "\n",
       "    .dataframe tbody tr th {\n",
       "        vertical-align: top;\n",
       "    }\n",
       "\n",
       "    .dataframe thead th {\n",
       "        text-align: right;\n",
       "    }\n",
       "</style>\n",
       "<table border=\"1\" class=\"dataframe\">\n",
       "  <thead>\n",
       "    <tr style=\"text-align: right;\">\n",
       "      <th></th>\n",
       "      <th>Name</th>\n",
       "      <th>ccna</th>\n",
       "      <th>hbase</th>\n",
       "      <th>microsoft airsim</th>\n",
       "      <th>rest</th>\n",
       "      <th>product strategy</th>\n",
       "      <th>grafana</th>\n",
       "      <th>dance</th>\n",
       "      <th>marketing strategy</th>\n",
       "      <th>adobe after effects</th>\n",
       "      <th>...</th>\n",
       "      <th>innovation management</th>\n",
       "      <th>global operations</th>\n",
       "      <th>web application security</th>\n",
       "      <th>web design</th>\n",
       "      <th>solidworks</th>\n",
       "      <th>kali linux</th>\n",
       "      <th>apache hive</th>\n",
       "      <th>comedian</th>\n",
       "      <th>xctest</th>\n",
       "      <th>automation</th>\n",
       "    </tr>\n",
       "  </thead>\n",
       "  <tbody>\n",
       "    <tr>\n",
       "      <th>0</th>\n",
       "      <td>Mohit Charkha</td>\n",
       "      <td>0</td>\n",
       "      <td>0</td>\n",
       "      <td>0</td>\n",
       "      <td>0</td>\n",
       "      <td>0</td>\n",
       "      <td>0</td>\n",
       "      <td>0</td>\n",
       "      <td>0</td>\n",
       "      <td>0</td>\n",
       "      <td>...</td>\n",
       "      <td>0</td>\n",
       "      <td>0</td>\n",
       "      <td>0</td>\n",
       "      <td>0</td>\n",
       "      <td>0</td>\n",
       "      <td>0</td>\n",
       "      <td>0</td>\n",
       "      <td>0</td>\n",
       "      <td>0</td>\n",
       "      <td>0</td>\n",
       "    </tr>\n",
       "    <tr>\n",
       "      <th>1</th>\n",
       "      <td>Geervani Reddy</td>\n",
       "      <td>0</td>\n",
       "      <td>0</td>\n",
       "      <td>0</td>\n",
       "      <td>0</td>\n",
       "      <td>0</td>\n",
       "      <td>0</td>\n",
       "      <td>0</td>\n",
       "      <td>0</td>\n",
       "      <td>0</td>\n",
       "      <td>...</td>\n",
       "      <td>0</td>\n",
       "      <td>0</td>\n",
       "      <td>0</td>\n",
       "      <td>0</td>\n",
       "      <td>0</td>\n",
       "      <td>0</td>\n",
       "      <td>0</td>\n",
       "      <td>0</td>\n",
       "      <td>0</td>\n",
       "      <td>0</td>\n",
       "    </tr>\n",
       "    <tr>\n",
       "      <th>2</th>\n",
       "      <td>Mayur Gotmare</td>\n",
       "      <td>0</td>\n",
       "      <td>0</td>\n",
       "      <td>0</td>\n",
       "      <td>0</td>\n",
       "      <td>0</td>\n",
       "      <td>0</td>\n",
       "      <td>0</td>\n",
       "      <td>0</td>\n",
       "      <td>0</td>\n",
       "      <td>...</td>\n",
       "      <td>0</td>\n",
       "      <td>0</td>\n",
       "      <td>0</td>\n",
       "      <td>0</td>\n",
       "      <td>0</td>\n",
       "      <td>0</td>\n",
       "      <td>0</td>\n",
       "      <td>0</td>\n",
       "      <td>0</td>\n",
       "      <td>0</td>\n",
       "    </tr>\n",
       "    <tr>\n",
       "      <th>3</th>\n",
       "      <td>Rajesh Alane</td>\n",
       "      <td>0</td>\n",
       "      <td>0</td>\n",
       "      <td>0</td>\n",
       "      <td>0</td>\n",
       "      <td>0</td>\n",
       "      <td>0</td>\n",
       "      <td>0</td>\n",
       "      <td>0</td>\n",
       "      <td>0</td>\n",
       "      <td>...</td>\n",
       "      <td>0</td>\n",
       "      <td>0</td>\n",
       "      <td>0</td>\n",
       "      <td>0</td>\n",
       "      <td>0</td>\n",
       "      <td>0</td>\n",
       "      <td>0</td>\n",
       "      <td>0</td>\n",
       "      <td>0</td>\n",
       "      <td>0</td>\n",
       "    </tr>\n",
       "    <tr>\n",
       "      <th>4</th>\n",
       "      <td>Krishna Purohit</td>\n",
       "      <td>0</td>\n",
       "      <td>0</td>\n",
       "      <td>0</td>\n",
       "      <td>0</td>\n",
       "      <td>0</td>\n",
       "      <td>0</td>\n",
       "      <td>0</td>\n",
       "      <td>0</td>\n",
       "      <td>0</td>\n",
       "      <td>...</td>\n",
       "      <td>0</td>\n",
       "      <td>0</td>\n",
       "      <td>0</td>\n",
       "      <td>0</td>\n",
       "      <td>0</td>\n",
       "      <td>0</td>\n",
       "      <td>0</td>\n",
       "      <td>0</td>\n",
       "      <td>0</td>\n",
       "      <td>0</td>\n",
       "    </tr>\n",
       "  </tbody>\n",
       "</table>\n",
       "<p>5 rows × 816 columns</p>\n",
       "</div>"
      ],
      "text/plain": [
       "              Name  ccna  hbase  microsoft airsim  rest  product strategy  \\\n",
       "0    Mohit Charkha     0      0                 0     0                 0   \n",
       "1   Geervani Reddy     0      0                 0     0                 0   \n",
       "2    Mayur Gotmare     0      0                 0     0                 0   \n",
       "3     Rajesh Alane     0      0                 0     0                 0   \n",
       "4  Krishna Purohit     0      0                 0     0                 0   \n",
       "\n",
       "   grafana  dance  marketing strategy  adobe after effects  ...  \\\n",
       "0        0      0                   0                    0  ...   \n",
       "1        0      0                   0                    0  ...   \n",
       "2        0      0                   0                    0  ...   \n",
       "3        0      0                   0                    0  ...   \n",
       "4        0      0                   0                    0  ...   \n",
       "\n",
       "   innovation management  global operations  web application security  \\\n",
       "0                      0                  0                         0   \n",
       "1                      0                  0                         0   \n",
       "2                      0                  0                         0   \n",
       "3                      0                  0                         0   \n",
       "4                      0                  0                         0   \n",
       "\n",
       "   web design  solidworks  kali linux  apache hive  comedian  xctest  \\\n",
       "0           0           0           0            0         0       0   \n",
       "1           0           0           0            0         0       0   \n",
       "2           0           0           0            0         0       0   \n",
       "3           0           0           0            0         0       0   \n",
       "4           0           0           0            0         0       0   \n",
       "\n",
       "   automation  \n",
       "0           0  \n",
       "1           0  \n",
       "2           0  \n",
       "3           0  \n",
       "4           0  \n",
       "\n",
       "[5 rows x 816 columns]"
      ]
     },
     "execution_count": 3,
     "metadata": {},
     "output_type": "execute_result"
    }
   ],
   "source": [
    "df_user_2_skill = pd.read_csv('User_Skills.csv')\n",
    "df_user_2_skill.head()"
   ]
  },
  {
   "cell_type": "code",
   "execution_count": 9,
   "metadata": {},
   "outputs": [],
   "source": [
    "features = csr_matrix(df_user_2_skill.iloc[:,1:].values)\n",
    "# print(features)"
   ]
  },
  {
   "cell_type": "code",
   "execution_count": 5,
   "metadata": {},
   "outputs": [],
   "source": [
    "model_knn1 = NearestNeighbors(metric='cosine',n_neighbors=10, n_jobs=-1)"
   ]
  },
  {
   "cell_type": "code",
   "execution_count": 6,
   "metadata": {},
   "outputs": [
    {
     "data": {
      "text/plain": [
       "NearestNeighbors(metric='cosine', n_jobs=-1, n_neighbors=10)"
      ]
     },
     "execution_count": 6,
     "metadata": {},
     "output_type": "execute_result"
    }
   ],
   "source": [
    "model_knn1.fit(features)"
   ]
  },
  {
   "cell_type": "markdown",
   "metadata": {},
   "source": [
    "## Enter target username here for user - skill recommendation"
   ]
  },
  {
   "cell_type": "code",
   "execution_count": 28,
   "metadata": {},
   "outputs": [
    {
     "name": "stdout",
     "output_type": "stream",
     "text": [
      "1\n"
     ]
    }
   ],
   "source": [
    "NamesOfUsers = df_user_2_skill['Name']\n",
    "target_user = [df_user_2_skill[df_user_2_skill['Name'] == 'Atharva Parikh'].iloc[0,1:].values.astype(int)]\n",
    "print(len(target_user))"
   ]
  },
  {
   "cell_type": "code",
   "execution_count": 11,
   "metadata": {},
   "outputs": [],
   "source": [
    "similar_users = model_knn1.kneighbors(target_user,10,return_distance=False)[0]"
   ]
  },
  {
   "cell_type": "code",
   "execution_count": 12,
   "metadata": {},
   "outputs": [
    {
     "name": "stdout",
     "output_type": "stream",
     "text": [
      "Atharva Parikh\n",
      "Sanket Deshmane\n",
      "Kaustubh Karlekar\n",
      "Purtika Bangad\n",
      "Parag K.\n",
      "Nilesh Jha\n",
      "Ria M.\n",
      "Aditya Jangid\n",
      "Ruturaj Patole\n",
      "Manasi Divekar\n"
     ]
    }
   ],
   "source": [
    "for id in similar_users:\n",
    "    print(NamesOfUsers[id])"
   ]
  },
  {
   "cell_type": "markdown",
   "metadata": {},
   "source": [
    "### Second Model"
   ]
  },
  {
   "cell_type": "code",
   "execution_count": 21,
   "metadata": {},
   "outputs": [
    {
     "name": "stdout",
     "output_type": "stream",
     "text": [
      "(815, 53)\n",
      "(815,)\n"
     ]
    }
   ],
   "source": [
    "df_skill_2_domain = pd.read_csv('Skill_Domain.csv')\n",
    "skill_domainMatrix = df_skill_2_domain.iloc[:,1:].values\n",
    "print(skill_domainMatrix.shape)\n",
    "print(target_user[0].shape)"
   ]
  },
  {
   "cell_type": "code",
   "execution_count": 30,
   "metadata": {},
   "outputs": [
    {
     "data": {
      "text/plain": [
       "[array([0, 0, 0, 0, 1, 0, 1, 0, 1, 0, 0, 0, 0, 0, 2, 0, 0, 0, 0, 3, 0, 0,\n",
       "        0, 0, 1, 0, 0, 0, 0, 0, 0, 0, 1, 0, 0, 1, 1, 0, 0, 0, 0, 0, 0, 0,\n",
       "        1, 0, 0, 0, 0, 0, 1, 0, 0])]"
      ]
     },
     "execution_count": 30,
     "metadata": {},
     "output_type": "execute_result"
    }
   ],
   "source": [
    "target_user_domain = [np.dot(np.array(target_user[0]),skill_domainMatrix)]\n",
    "target_user_domain"
   ]
  },
  {
   "cell_type": "code",
   "execution_count": 34,
   "metadata": {},
   "outputs": [],
   "source": [
    "df_user_2_domain = pd.read_csv('User_Domain.csv')\n",
    "featureMatrix = csr_matrix(df_user_2_domain.iloc[:,1:].values)"
   ]
  },
  {
   "cell_type": "code",
   "execution_count": 35,
   "metadata": {},
   "outputs": [
    {
     "data": {
      "text/plain": [
       "NearestNeighbors(metric='cosine', n_jobs=-1, n_neighbors=10)"
      ]
     },
     "execution_count": 35,
     "metadata": {},
     "output_type": "execute_result"
    }
   ],
   "source": [
    "model_knn2 = NearestNeighbors(metric='cosine',n_neighbors=10, n_jobs=-1)\n",
    "model_knn2.fit(featureMatrix)"
   ]
  },
  {
   "cell_type": "code",
   "execution_count": 36,
   "metadata": {},
   "outputs": [
    {
     "data": {
      "text/plain": [
       "array([ 70, 513, 221, 278, 284,  13,  46, 582,  56, 360])"
      ]
     },
     "execution_count": 36,
     "metadata": {},
     "output_type": "execute_result"
    }
   ],
   "source": [
    "similar_users2 = model_knn2.kneighbors(target_user_domain,10,return_distance=False)[0]\n",
    "similar_users2"
   ]
  },
  {
   "cell_type": "code",
   "execution_count": 38,
   "metadata": {},
   "outputs": [
    {
     "name": "stdout",
     "output_type": "stream",
     "text": [
      "Atharva Parikh\n",
      "Anom Devgun\n",
      "Roshan Wazare\n",
      "Harshit Bhanushali\n",
      "Apurva Kirdatt\n",
      "Parag K.\n",
      "Abhishek Khedekar\n",
      "Pawan Chaudhari\n",
      "Nirmiti Gawande\n",
      "Nilesh Gopale\n"
     ]
    }
   ],
   "source": [
    "for id in similar_users2:\n",
    "    print(NamesOfUsers[id])"
   ]
  },
  {
   "cell_type": "code",
   "execution_count": 39,
   "metadata": {},
   "outputs": [
    {
     "data": {
      "text/plain": [
       "['KNN_users_domain.pkl']"
      ]
     },
     "execution_count": 39,
     "metadata": {},
     "output_type": "execute_result"
    }
   ],
   "source": [
    "joblib.dump(model_knn1,'KNN_users_skill.pkl')\n",
    "joblib.dump(model_knn2,'KNN_users_domain.pkl')"
   ]
  }
 ],
 "metadata": {
  "interpreter": {
   "hash": "906298cc6103dc02a487e5a388337bc5dd0e94221d9694aef36243eb200e80e5"
  },
  "kernelspec": {
   "display_name": "Python 3.8.8 64-bit ('base': conda)",
   "name": "python3"
  },
  "language_info": {
   "codemirror_mode": {
    "name": "ipython",
    "version": 3
   },
   "file_extension": ".py",
   "mimetype": "text/x-python",
   "name": "python",
   "nbconvert_exporter": "python",
   "pygments_lexer": "ipython3",
   "version": "3.8.8"
  },
  "orig_nbformat": 4
 },
 "nbformat": 4,
 "nbformat_minor": 2
}
