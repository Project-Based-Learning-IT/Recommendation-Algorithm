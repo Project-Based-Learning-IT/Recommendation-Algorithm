{
 "cells": [
  {
   "cell_type": "code",
   "execution_count": 1,
   "id": "45a0163c-1a3a-4faf-8881-b95c0df02932",
   "metadata": {},
   "outputs": [],
   "source": [
    "import pandas as pd"
   ]
  },
  {
   "cell_type": "code",
   "execution_count": 2,
   "id": "e9660302-013d-403b-a79b-045c72431bc2",
   "metadata": {},
   "outputs": [],
   "source": [
    "df = pd.read_csv('Dataset.csv')"
   ]
  },
  {
   "cell_type": "code",
   "execution_count": 18,
   "id": "61cf17e0-9c97-4806-9e12-e980bee38d10",
   "metadata": {},
   "outputs": [
    {
     "data": {
      "text/html": [
       "<div>\n",
       "<style scoped>\n",
       "    .dataframe tbody tr th:only-of-type {\n",
       "        vertical-align: middle;\n",
       "    }\n",
       "\n",
       "    .dataframe tbody tr th {\n",
       "        vertical-align: top;\n",
       "    }\n",
       "\n",
       "    .dataframe thead th {\n",
       "        text-align: right;\n",
       "    }\n",
       "</style>\n",
       "<table border=\"1\" class=\"dataframe\">\n",
       "  <thead>\n",
       "    <tr style=\"text-align: right;\">\n",
       "      <th></th>\n",
       "      <th>hash</th>\n",
       "      <th>Name</th>\n",
       "      <th>Skills</th>\n",
       "    </tr>\n",
       "  </thead>\n",
       "  <tbody>\n",
       "    <tr>\n",
       "      <th>0</th>\n",
       "      <td>0</td>\n",
       "      <td>Mohit Charkha</td>\n",
       "      <td>['python', 'c++', 'c', 'css', 'html', 'microso...</td>\n",
       "    </tr>\n",
       "    <tr>\n",
       "      <th>1</th>\n",
       "      <td>1</td>\n",
       "      <td>Geervani Reddy</td>\n",
       "      <td>['python', 'mongodb', 'flask', 'frontend', 'c'...</td>\n",
       "    </tr>\n",
       "    <tr>\n",
       "      <th>2</th>\n",
       "      <td>2</td>\n",
       "      <td>Mayur Gotmare</td>\n",
       "      <td>['python', 'c#', 'machine learning', 'digital ...</td>\n",
       "    </tr>\n",
       "    <tr>\n",
       "      <th>3</th>\n",
       "      <td>3</td>\n",
       "      <td>Rajesh Alane</td>\n",
       "      <td>['vue.js', 'c++', 'mongodb', 'android developm...</td>\n",
       "    </tr>\n",
       "    <tr>\n",
       "      <th>4</th>\n",
       "      <td>4</td>\n",
       "      <td>Krishna Purohit</td>\n",
       "      <td>['spring mvc', 'aws', 'django', 'distributed s...</td>\n",
       "    </tr>\n",
       "    <tr>\n",
       "      <th>...</th>\n",
       "      <td>...</td>\n",
       "      <td>...</td>\n",
       "      <td>...</td>\n",
       "    </tr>\n",
       "    <tr>\n",
       "      <th>624</th>\n",
       "      <td>624</td>\n",
       "      <td>Madhulika Jhawar</td>\n",
       "      <td>['c', 'dsa', 'english', ' Engineering', ' Manu...</td>\n",
       "    </tr>\n",
       "    <tr>\n",
       "      <th>625</th>\n",
       "      <td>625</td>\n",
       "      <td>Hrishikesh Shingate</td>\n",
       "      <td>['AngularJS', 'bootstrap', 'html', 'ASP.NET', ...</td>\n",
       "    </tr>\n",
       "    <tr>\n",
       "      <th>626</th>\n",
       "      <td>626</td>\n",
       "      <td>Kshitija Ladhe</td>\n",
       "      <td>['Testing', ' Extract', ' Transform', ' Load (...</td>\n",
       "    </tr>\n",
       "    <tr>\n",
       "      <th>627</th>\n",
       "      <td>627</td>\n",
       "      <td>Darshan Shah</td>\n",
       "      <td>['Angular 10', 'angular.js', 'javascript', 'fr...</td>\n",
       "    </tr>\n",
       "    <tr>\n",
       "      <th>628</th>\n",
       "      <td>628</td>\n",
       "      <td>Siddhika Gajare</td>\n",
       "      <td>['Data Analysis', 'python', 'java', 'machine l...</td>\n",
       "    </tr>\n",
       "  </tbody>\n",
       "</table>\n",
       "<p>629 rows × 3 columns</p>\n",
       "</div>"
      ],
      "text/plain": [
       "     hash                 Name  \\\n",
       "0       0        Mohit Charkha   \n",
       "1       1       Geervani Reddy   \n",
       "2       2        Mayur Gotmare   \n",
       "3       3         Rajesh Alane   \n",
       "4       4      Krishna Purohit   \n",
       "..    ...                  ...   \n",
       "624   624     Madhulika Jhawar   \n",
       "625   625  Hrishikesh Shingate   \n",
       "626   626       Kshitija Ladhe   \n",
       "627   627         Darshan Shah   \n",
       "628   628      Siddhika Gajare   \n",
       "\n",
       "                                                Skills  \n",
       "0    ['python', 'c++', 'c', 'css', 'html', 'microso...  \n",
       "1    ['python', 'mongodb', 'flask', 'frontend', 'c'...  \n",
       "2    ['python', 'c#', 'machine learning', 'digital ...  \n",
       "3    ['vue.js', 'c++', 'mongodb', 'android developm...  \n",
       "4    ['spring mvc', 'aws', 'django', 'distributed s...  \n",
       "..                                                 ...  \n",
       "624  ['c', 'dsa', 'english', ' Engineering', ' Manu...  \n",
       "625  ['AngularJS', 'bootstrap', 'html', 'ASP.NET', ...  \n",
       "626  ['Testing', ' Extract', ' Transform', ' Load (...  \n",
       "627  ['Angular 10', 'angular.js', 'javascript', 'fr...  \n",
       "628  ['Data Analysis', 'python', 'java', 'machine l...  \n",
       "\n",
       "[629 rows x 3 columns]"
      ]
     },
     "execution_count": 18,
     "metadata": {},
     "output_type": "execute_result"
    }
   ],
   "source": [
    "df"
   ]
  },
  {
   "cell_type": "code",
   "execution_count": 10,
   "id": "b8f8498b-0734-4456-9a4f-e37e1d72fe10",
   "metadata": {},
   "outputs": [
    {
     "data": {
      "text/plain": [
       "str"
      ]
     },
     "execution_count": 10,
     "metadata": {},
     "output_type": "execute_result"
    }
   ],
   "source": [
    "type(df['Skills'][0])"
   ]
  },
  {
   "cell_type": "code",
   "execution_count": 15,
   "id": "77a96cf0-4ed1-49db-abf0-9561e130d87d",
   "metadata": {},
   "outputs": [
    {
     "name": "stdout",
     "output_type": "stream",
     "text": [
      "[\"'python'\", \" 'c++'\", \" 'c'\", \" 'css'\", \" 'html'\", \" 'microsoft office'\"]\n",
      "python\n",
      "c++\n",
      "c\n",
      "css\n",
      "html\n",
      "microsoft office\n"
     ]
    }
   ],
   "source": [
    "for line in df['Skills']:\n",
    "    splitline = line.strip('][').split(',')\n",
    "    print(splitline)\n",
    "    for word in splitline:\n",
    "        word = word.replace(\"'\",\"\").rstrip().lstrip().lower()\n",
    "        print(word)\n",
    "    break"
   ]
  },
  {
   "cell_type": "code",
   "execution_count": 20,
   "id": "44f10ad8-f73d-4de3-b66c-afc158d61e3f",
   "metadata": {},
   "outputs": [],
   "source": [
    "names = df['Name'].to_list()"
   ]
  },
  {
   "cell_type": "code",
   "execution_count": 23,
   "id": "a61abfba-90f3-41e6-99df-f06a309e08ff",
   "metadata": {},
   "outputs": [],
   "source": [
    "Totalskills = []\n",
    "for line in df['Skills']:\n",
    "    splitline = line.strip('][').split(',')\n",
    "#     print(splitline)\n",
    "    skillsPerUser = []\n",
    "    for word in splitline:\n",
    "        word = word.replace(\"'\",\"\").rstrip().lstrip().lower()\n",
    "        skillsPerUser.append(word)\n",
    "    Totalskills.append(skillsPerUser)"
   ]
  },
  {
   "cell_type": "code",
   "execution_count": 25,
   "id": "f154ef8b-0f49-4543-a7b5-6f1a70be7813",
   "metadata": {},
   "outputs": [
    {
     "name": "stdout",
     "output_type": "stream",
     "text": [
      "Total users - 629, Total skills - 629\n"
     ]
    }
   ],
   "source": [
    "print(f'Total users - {len(names)}, Total skills - {len(Totalskills)}')"
   ]
  },
  {
   "cell_type": "code",
   "execution_count": 26,
   "id": "0a16cba0-2572-4a99-b77c-0db08320a59d",
   "metadata": {},
   "outputs": [],
   "source": [
    "data = {\n",
    "    'Name' : names,\n",
    "    'Skills' : Totalskills\n",
    "}"
   ]
  },
  {
   "cell_type": "code",
   "execution_count": 27,
   "id": "3267caba-9f80-4b65-aed2-699198f8b4eb",
   "metadata": {},
   "outputs": [],
   "source": [
    "df2 = pd.DataFrame(data)"
   ]
  },
  {
   "cell_type": "code",
   "execution_count": 29,
   "id": "98bdf9dd-e8a4-48b2-ac46-f99de5ff12a9",
   "metadata": {},
   "outputs": [
    {
     "data": {
      "text/plain": [
       "list"
      ]
     },
     "execution_count": 29,
     "metadata": {},
     "output_type": "execute_result"
    }
   ],
   "source": [
    "type(df2['Skills'][0])"
   ]
  },
  {
   "cell_type": "code",
   "execution_count": 30,
   "id": "87aded76-480b-41ae-a158-0c6dc27e220b",
   "metadata": {},
   "outputs": [
    {
     "data": {
      "text/html": [
       "<div>\n",
       "<style scoped>\n",
       "    .dataframe tbody tr th:only-of-type {\n",
       "        vertical-align: middle;\n",
       "    }\n",
       "\n",
       "    .dataframe tbody tr th {\n",
       "        vertical-align: top;\n",
       "    }\n",
       "\n",
       "    .dataframe thead th {\n",
       "        text-align: right;\n",
       "    }\n",
       "</style>\n",
       "<table border=\"1\" class=\"dataframe\">\n",
       "  <thead>\n",
       "    <tr style=\"text-align: right;\">\n",
       "      <th></th>\n",
       "      <th>Name</th>\n",
       "      <th>Skills</th>\n",
       "    </tr>\n",
       "  </thead>\n",
       "  <tbody>\n",
       "    <tr>\n",
       "      <th>0</th>\n",
       "      <td>Mohit Charkha</td>\n",
       "      <td>[python, c++, c, css, html, microsoft office]</td>\n",
       "    </tr>\n",
       "    <tr>\n",
       "      <th>1</th>\n",
       "      <td>Geervani Reddy</td>\n",
       "      <td>[python, mongodb, flask, frontend, c, java, fi...</td>\n",
       "    </tr>\n",
       "    <tr>\n",
       "      <th>2</th>\n",
       "      <td>Mayur Gotmare</td>\n",
       "      <td>[python, c#, machine learning, digital image p...</td>\n",
       "    </tr>\n",
       "    <tr>\n",
       "      <th>3</th>\n",
       "      <td>Rajesh Alane</td>\n",
       "      <td>[vue.js, c++, mongodb, android development, ja...</td>\n",
       "    </tr>\n",
       "    <tr>\n",
       "      <th>4</th>\n",
       "      <td>Krishna Purohit</td>\n",
       "      <td>[spring mvc, aws, django, distributed systems,...</td>\n",
       "    </tr>\n",
       "    <tr>\n",
       "      <th>...</th>\n",
       "      <td>...</td>\n",
       "      <td>...</td>\n",
       "    </tr>\n",
       "    <tr>\n",
       "      <th>624</th>\n",
       "      <td>Madhulika Jhawar</td>\n",
       "      <td>[c, dsa, english, engineering, manual testing,...</td>\n",
       "    </tr>\n",
       "    <tr>\n",
       "      <th>625</th>\n",
       "      <td>Hrishikesh Shingate</td>\n",
       "      <td>[angularjs, bootstrap, html, asp.net, .net fra...</td>\n",
       "    </tr>\n",
       "    <tr>\n",
       "      <th>626</th>\n",
       "      <td>Kshitija Ladhe</td>\n",
       "      <td>[testing, extract, transform, load (etl), edh,...</td>\n",
       "    </tr>\n",
       "    <tr>\n",
       "      <th>627</th>\n",
       "      <td>Darshan Shah</td>\n",
       "      <td>[angular 10, angular.js, javascript, frontend,...</td>\n",
       "    </tr>\n",
       "    <tr>\n",
       "      <th>628</th>\n",
       "      <td>Siddhika Gajare</td>\n",
       "      <td>[data analysis, python, java, machine learning...</td>\n",
       "    </tr>\n",
       "  </tbody>\n",
       "</table>\n",
       "<p>629 rows × 2 columns</p>\n",
       "</div>"
      ],
      "text/plain": [
       "                    Name                                             Skills\n",
       "0          Mohit Charkha      [python, c++, c, css, html, microsoft office]\n",
       "1         Geervani Reddy  [python, mongodb, flask, frontend, c, java, fi...\n",
       "2          Mayur Gotmare  [python, c#, machine learning, digital image p...\n",
       "3           Rajesh Alane  [vue.js, c++, mongodb, android development, ja...\n",
       "4        Krishna Purohit  [spring mvc, aws, django, distributed systems,...\n",
       "..                   ...                                                ...\n",
       "624     Madhulika Jhawar  [c, dsa, english, engineering, manual testing,...\n",
       "625  Hrishikesh Shingate  [angularjs, bootstrap, html, asp.net, .net fra...\n",
       "626       Kshitija Ladhe  [testing, extract, transform, load (etl), edh,...\n",
       "627         Darshan Shah  [angular 10, angular.js, javascript, frontend,...\n",
       "628      Siddhika Gajare  [data analysis, python, java, machine learning...\n",
       "\n",
       "[629 rows x 2 columns]"
      ]
     },
     "execution_count": 30,
     "metadata": {},
     "output_type": "execute_result"
    }
   ],
   "source": [
    "df2"
   ]
  },
  {
   "cell_type": "code",
   "execution_count": 31,
   "id": "945c7564-be26-4312-b894-855edba3879b",
   "metadata": {},
   "outputs": [],
   "source": [
    "df2.to_csv('Dataset.csv',index=False)"
   ]
  },
  {
   "cell_type": "code",
   "execution_count": null,
   "id": "f9439a1e-5707-48af-8330-c71a89b95359",
   "metadata": {},
   "outputs": [],
   "source": []
  }
 ],
 "metadata": {
  "kernelspec": {
   "display_name": "Python 3 (ipykernel)",
   "language": "python",
   "name": "python3"
  },
  "language_info": {
   "codemirror_mode": {
    "name": "ipython",
    "version": 3
   },
   "file_extension": ".py",
   "mimetype": "text/x-python",
   "name": "python",
   "nbconvert_exporter": "python",
   "pygments_lexer": "ipython3",
   "version": "3.8.8"
  }
 },
 "nbformat": 4,
 "nbformat_minor": 5
}
